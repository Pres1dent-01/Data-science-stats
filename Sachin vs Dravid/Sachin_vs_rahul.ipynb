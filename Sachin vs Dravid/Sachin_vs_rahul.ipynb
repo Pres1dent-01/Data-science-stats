{
  "nbformat": 4,
  "nbformat_minor": 0,
  "metadata": {
    "colab": {
      "name": "Practice_FDSW3Asgn1Prob1_Solution.ipynb",
      "provenance": [],
      "toc_visible": true
    },
    "kernelspec": {
      "name": "python3",
      "display_name": "Python 3"
    },
    "language_info": {
      "name": "python"
    }
  },
  "cells": [
    {
      "cell_type": "markdown",
      "metadata": {
        "id": "46nuHkwENSsy"
      },
      "source": [
        "# **Cricket Case Study**"
      ]
    },
    {
      "cell_type": "markdown",
      "metadata": {
        "id": "j7wFCMZON40a"
      },
      "source": [
        "\n",
        "\n",
        "1.   Find mean, median, IQR for Sachin, Rahul, and India\n",
        "2.   Find the histogram of Sachin's scores with 10 bins\n",
        "3.   Find mean of Sachin's scores grouped by 25 matches\n",
        "4.   Find mean of Sachin's scores where he has scored a century\n",
        "5.   Find mean of Sachin's scores when Rahul has scored less than 10\n",
        "6.   Find mean for Sachin's scores based on which quartile India's score falls in\n",
        "7.   For every match find out who has has scored more - Sachin or Rahul\n",
        "8.   How many more runs does Sachin score on average after having scored x runs\n",
        "9.   How many matches did Sachin take to score first 1000 runs, next 1000 runs, ...\n",
        "\n"
      ]
    },
    {
      "cell_type": "code",
      "metadata": {
        "colab": {
          "base_uri": "https://localhost:8080/"
        },
        "id": "N7FJFwQIOgcc",
        "outputId": "22409e53-874b-4b75-b7ce-33f96562b845"
      },
      "source": [
        "!head cric_data.tsv"
      ],
      "execution_count": 1,
      "outputs": [
        {
          "output_type": "stream",
          "text": [
            "\tSachin Tendulkar\tRahul Dravid\tIndia\n",
            "0\t100\t78\t342\n",
            "1\t11\t62\t191\n",
            "2\t8\t85\t252\n",
            "3\t71\t24\t307\n",
            "4\t104\t17\t229\n",
            "5\t18\t104\t246\n",
            "6\t8\t76\t226\n",
            "7\t86\t74\t288\n",
            "8\t12\t60\t216\n"
          ],
          "name": "stdout"
        }
      ]
    },
    {
      "cell_type": "markdown",
      "metadata": {
        "id": "ft1TGNc6Ox_0"
      },
      "source": [
        "# **Problem 1**"
      ]
    },
    {
      "cell_type": "code",
      "metadata": {
        "id": "vPXisDRuO7LY"
      },
      "source": [
        "import numpy as np"
      ],
      "execution_count": 2,
      "outputs": []
    },
    {
      "cell_type": "code",
      "metadata": {
        "id": "eejpqM-AOrg0"
      },
      "source": [
        "cric_data = np.loadtxt(\"cric_data.tsv\", skiprows=1)"
      ],
      "execution_count": 3,
      "outputs": []
    },
    {
      "cell_type": "code",
      "metadata": {
        "colab": {
          "base_uri": "https://localhost:8080/"
        },
        "id": "ODGSodaPO5n3",
        "outputId": "c8cfce93-31c1-415a-cbd5-3650ee7fae5f"
      },
      "source": [
        "cric_data.shape"
      ],
      "execution_count": 4,
      "outputs": [
        {
          "output_type": "execute_result",
          "data": {
            "text/plain": [
              "(225, 4)"
            ]
          },
          "metadata": {
            "tags": []
          },
          "execution_count": 4
        }
      ]
    },
    {
      "cell_type": "code",
      "metadata": {
        "id": "C2UKAwtRPDWc"
      },
      "source": [
        "cric_data = cric_data[:, 1:]"
      ],
      "execution_count": 5,
      "outputs": []
    },
    {
      "cell_type": "code",
      "metadata": {
        "colab": {
          "base_uri": "https://localhost:8080/"
        },
        "id": "xlaZLa8CPc8Q",
        "outputId": "53d74d8d-b779-4ed0-97d5-09ce252209ec"
      },
      "source": [
        "cric_data.shape"
      ],
      "execution_count": 6,
      "outputs": [
        {
          "output_type": "execute_result",
          "data": {
            "text/plain": [
              "(225, 3)"
            ]
          },
          "metadata": {
            "tags": []
          },
          "execution_count": 6
        }
      ]
    },
    {
      "cell_type": "code",
      "metadata": {
        "id": "e--6Im-qTQsL"
      },
      "source": [
        "# np.mean(cric_data, axis=0)"
      ],
      "execution_count": null,
      "outputs": []
    },
    {
      "cell_type": "code",
      "metadata": {
        "id": "xE3KO5PUTt1e"
      },
      "source": [
        "# np.median(cric_data, axis=0)"
      ],
      "execution_count": null,
      "outputs": []
    },
    {
      "cell_type": "code",
      "metadata": {
        "id": "m2aMAeG8T8zf"
      },
      "source": [
        "sachin = cric_data[:, 0]"
      ],
      "execution_count": 8,
      "outputs": []
    },
    {
      "cell_type": "code",
      "metadata": {
        "id": "oL-anAV8ZO4Q"
      },
      "source": [
        "# np.mean(sachin)"
      ],
      "execution_count": null,
      "outputs": []
    },
    {
      "cell_type": "code",
      "metadata": {
        "id": "_BnXW5zsUIXi"
      },
      "source": [
        "dravid = cric_data[:, 1]"
      ],
      "execution_count": 7,
      "outputs": []
    },
    {
      "cell_type": "code",
      "metadata": {
        "id": "FWNfrM3bULD7"
      },
      "source": [
        "india=cric_data[:, 2]"
      ],
      "execution_count": 9,
      "outputs": []
    },
    {
      "cell_type": "code",
      "metadata": {
        "id": "DAu7E5U2URIt"
      },
      "source": [
        "# sachin"
      ],
      "execution_count": null,
      "outputs": []
    },
    {
      "cell_type": "code",
      "metadata": {
        "id": "65O63EAEUR8f"
      },
      "source": [
        "# sachin.shape"
      ],
      "execution_count": null,
      "outputs": []
    },
    {
      "cell_type": "code",
      "metadata": {
        "id": "Ko24mhK_UWaN"
      },
      "source": [
        "# sachin = sachin.reshape(225,1) #sachin = cric_data[:, 0].reshape(225,1)"
      ],
      "execution_count": null,
      "outputs": []
    },
    {
      "cell_type": "code",
      "metadata": {
        "id": "sTyLwPUkUecq"
      },
      "source": [
        "# dravid = cric_data[:, 1].reshape(225,1)"
      ],
      "execution_count": null,
      "outputs": []
    },
    {
      "cell_type": "code",
      "metadata": {
        "id": "paXLaWryUl9j"
      },
      "source": [
        "# dravid.shape"
      ],
      "execution_count": null,
      "outputs": []
    },
    {
      "cell_type": "code",
      "metadata": {
        "id": "KEMh4cfMUogN"
      },
      "source": [
        "# india=cric_data[:, 2].reshape(225,1)"
      ],
      "execution_count": null,
      "outputs": []
    },
    {
      "cell_type": "code",
      "metadata": {
        "id": "70syWVWjUtoT"
      },
      "source": [
        "# sachin_percent = np.percentile(sachin, [25,75])"
      ],
      "execution_count": null,
      "outputs": []
    },
    {
      "cell_type": "code",
      "metadata": {
        "id": "sDINSoj-WtMt"
      },
      "source": [
        "# sachin_iqr = sachin_percent[1] - sachin_percent[0]"
      ],
      "execution_count": null,
      "outputs": []
    },
    {
      "cell_type": "code",
      "metadata": {
        "id": "G6xpRS47W3I_"
      },
      "source": [
        "# sachin_iqr"
      ],
      "execution_count": null,
      "outputs": []
    },
    {
      "cell_type": "code",
      "metadata": {
        "id": "wcbPk5VFW4OW"
      },
      "source": [
        "def stats(col):\n",
        "  print('Mean' , np.mean(col))\n",
        "  print('Median' , np.median(col))\n",
        "  print('IQR' , np.percentile(col, 75) - np.percentile(col, 25))\n"
      ],
      "execution_count": 10,
      "outputs": []
    },
    {
      "cell_type": "code",
      "metadata": {
        "colab": {
          "base_uri": "https://localhost:8080/"
        },
        "id": "z-BDWE2UY7VQ",
        "outputId": "462aa8a3-dcf4-4537-b650-c1aa8acc3eed"
      },
      "source": [
        "stats(sachin)"
      ],
      "execution_count": 11,
      "outputs": [
        {
          "output_type": "stream",
          "text": [
            "Mean 39.87555555555556\n",
            "Median 27.0\n",
            "IQR 57.0\n"
          ],
          "name": "stdout"
        }
      ]
    },
    {
      "cell_type": "markdown",
      "metadata": {
        "id": "fnFNs08Mc_33"
      },
      "source": [
        "# **Problem 2**"
      ]
    },
    {
      "cell_type": "code",
      "metadata": {
        "id": "W76IlcuJY8Vi"
      },
      "source": [
        "np.histogram?"
      ],
      "execution_count": null,
      "outputs": []
    },
    {
      "cell_type": "code",
      "metadata": {
        "colab": {
          "base_uri": "https://localhost:8080/"
        },
        "id": "Utn4aO8SdRi0",
        "outputId": "b2364ef6-fe35-4d09-ae25-a7d5143796c9"
      },
      "source": [
        "np.histogram(sachin, bins=10)"
      ],
      "execution_count": 12,
      "outputs": [
        {
          "output_type": "execute_result",
          "data": {
            "text/plain": [
              "(array([99, 36, 28, 16, 11, 17,  8,  8,  1,  1]),\n",
              " array([  0. ,  18.6,  37.2,  55.8,  74.4,  93. , 111.6, 130.2, 148.8,\n",
              "        167.4, 186. ]))"
            ]
          },
          "metadata": {
            "tags": []
          },
          "execution_count": 12
        }
      ]
    },
    {
      "cell_type": "markdown",
      "metadata": {
        "id": "JKIbD-1kdh7e"
      },
      "source": [
        "# **Problem 3**"
      ]
    },
    {
      "cell_type": "code",
      "metadata": {
        "id": "IfJ7HbQ-dXkX"
      },
      "source": [
        "sachin_25s = sachin.reshape(9, 25)"
      ],
      "execution_count": 13,
      "outputs": []
    },
    {
      "cell_type": "code",
      "metadata": {
        "colab": {
          "base_uri": "https://localhost:8080/"
        },
        "id": "rt400ph-eDme",
        "outputId": "e5c7b41f-ece2-4372-a7a8-9b3ba56139e0"
      },
      "source": [
        "sachin_25s"
      ],
      "execution_count": 14,
      "outputs": [
        {
          "output_type": "execute_result",
          "data": {
            "text/plain": [
              "array([[100.,  11.,   8.,  71., 104.,  18.,   8.,  86.,  12.,  85.,  18.,\n",
              "          4.,   7.,  37.,  14.,   0.,   4.,   0.,  21.,   1.,  62.,   0.,\n",
              "        138.,  38.,   2.],\n",
              "       [ 46.,  65.,   0.,  39.,  48., 141.,  62.,  12.,   1.,  41.,  11.,\n",
              "          3., 186.,  11.,  27.,  27.,  51.,  18.,  32., 146.,   5.,  45.,\n",
              "        141.,  12.,  65.],\n",
              "       [ 27.,   7.,  16.,   2.,  28.,   6., 123., 120.,   7.,   3.,   0.,\n",
              "         81.,   2.,  54., 122.,   4.,  14.,   0., 100.,  15.,   0.,  57.,\n",
              "         99.,  37.,  38.],\n",
              "       [ 32.,  21.,  32.,  40.,   0.,   5.,   8.,   5.,   0.,  50.,  30.,\n",
              "         37.,  89.,   4.,  98.,  83.,  93.,   0.,  52., 152.,   1.,   8.,\n",
              "         93.,  45.,  26.],\n",
              "       [  0.,   1.,   0.,  16.,  47.,  89.,   3.,   1.,  53.,  16.,   0.,\n",
              "         81.,  14.,  78.,   6., 105., 122.,   9.,   8.,  28.,  35.,  69.,\n",
              "         13.,  97.,  93.],\n",
              "       [  2.,  36.,  39.,   2.,  29.,  12.,  19.,  34.,   2., 100.,  44.,\n",
              "         82.,   0.,  79.,   6.,   9.,   8.,  23.,  93.,  35.,  63.,  74.,\n",
              "          8., 117.,  39.],\n",
              "       [ 49.,  64.,  43.,  72.,   5.,  17.,   0.,  65.,  20., 141.,  28.,\n",
              "         44.,  27.,  60.,  68.,   3., 139.,  31.,   2.,  44.,  47.,   6.,\n",
              "         17.,  35.,  88.],\n",
              "       [114.,   7., 127.,   0.,  45.,  33., 110., 146.,   7.,  25.,   9.,\n",
              "          2.,  11.,  17.,  14.,   1.,  45.,  94.,  28.,   4.,  62.,   1.,\n",
              "          9.,  67.,  10.],\n",
              "       [ 99.,  55.,   0.,   1., 101.,   2.,   1.,  16., 140.,  23., 113.,\n",
              "         10.,   1.,  41.,   1.,  28.,   2.,  22.,  29.,   1.,  25., 102.,\n",
              "          0.,  27.,  40.]])"
            ]
          },
          "metadata": {
            "tags": []
          },
          "execution_count": 14
        }
      ]
    },
    {
      "cell_type": "code",
      "metadata": {
        "colab": {
          "base_uri": "https://localhost:8080/"
        },
        "id": "klNKZmyAgFy6",
        "outputId": "82071610-ac7a-4f16-e649-5d1f21c9a81d"
      },
      "source": [
        "np.mean(sachin_25s, axis=1)"
      ],
      "execution_count": 15,
      "outputs": [
        {
          "output_type": "execute_result",
          "data": {
            "text/plain": [
              "array([33.96, 49.4 , 38.48, 40.16, 39.36, 38.2 , 44.6 , 39.52, 35.2 ])"
            ]
          },
          "metadata": {
            "tags": []
          },
          "execution_count": 15
        }
      ]
    },
    {
      "cell_type": "markdown",
      "metadata": {
        "id": "BY1MCKuPgrQc"
      },
      "source": [
        "# **Problem 4,5**"
      ]
    },
    {
      "cell_type": "code",
      "metadata": {
        "colab": {
          "base_uri": "https://localhost:8080/"
        },
        "id": "Fc0c62cMgXGy",
        "outputId": "7c1a8f33-7b99-40f6-e0e2-fb7f8a65b7c2"
      },
      "source": [
        "np.mean(sachin[sachin>=100])"
      ],
      "execution_count": 16,
      "outputs": [
        {
          "output_type": "execute_result",
          "data": {
            "text/plain": [
              "125.0"
            ]
          },
          "metadata": {
            "tags": []
          },
          "execution_count": 16
        }
      ]
    },
    {
      "cell_type": "code",
      "metadata": {
        "colab": {
          "base_uri": "https://localhost:8080/"
        },
        "id": "ZRdM-ec4hPjy",
        "outputId": "cb90eaeb-2d73-4802-9e58-b8cb88453897"
      },
      "source": [
        "np.mean(sachin[dravid<10])"
      ],
      "execution_count": 17,
      "outputs": [
        {
          "output_type": "execute_result",
          "data": {
            "text/plain": [
              "40.74285714285714"
            ]
          },
          "metadata": {
            "tags": []
          },
          "execution_count": 17
        }
      ]
    },
    {
      "cell_type": "markdown",
      "metadata": {
        "id": "CtW_dsM2hpFQ"
      },
      "source": [
        "# **Problem 6**"
      ]
    },
    {
      "cell_type": "code",
      "metadata": {
        "id": "icBO2l_Ih_pI"
      },
      "source": [
        "qrs = np.percentile(india, [25, 50, 75, 100])"
      ],
      "execution_count": 18,
      "outputs": []
    },
    {
      "cell_type": "code",
      "metadata": {
        "colab": {
          "base_uri": "https://localhost:8080/"
        },
        "id": "RG9Sbmkcht2y",
        "outputId": "a0a12de3-2bb8-49a0-801d-c077a4ab4441"
      },
      "source": [
        "india.shape"
      ],
      "execution_count": 19,
      "outputs": [
        {
          "output_type": "execute_result",
          "data": {
            "text/plain": [
              "(225,)"
            ]
          },
          "metadata": {
            "tags": []
          },
          "execution_count": 19
        }
      ]
    },
    {
      "cell_type": "code",
      "metadata": {
        "id": "YagGiz3kmrHT"
      },
      "source": [
        "qrs = qrs.reshape(4,1)"
      ],
      "execution_count": 20,
      "outputs": []
    },
    {
      "cell_type": "code",
      "metadata": {
        "id": "S_BxcN7glUeV"
      },
      "source": [
        "indices = india < qrs"
      ],
      "execution_count": 21,
      "outputs": []
    },
    {
      "cell_type": "code",
      "metadata": {
        "colab": {
          "base_uri": "https://localhost:8080/"
        },
        "id": "c4HpRqHrlY8r",
        "outputId": "7b54c3cd-7608-4f74-83ee-ff5f660dac38"
      },
      "source": [
        "indices.shape"
      ],
      "execution_count": 22,
      "outputs": [
        {
          "output_type": "execute_result",
          "data": {
            "text/plain": [
              "(4, 225)"
            ]
          },
          "metadata": {
            "tags": []
          },
          "execution_count": 22
        }
      ]
    },
    {
      "cell_type": "code",
      "metadata": {
        "colab": {
          "base_uri": "https://localhost:8080/"
        },
        "id": "5XdogSDXlu2f",
        "outputId": "47cd18ee-bdd0-4727-d1e6-a8284158c203"
      },
      "source": [
        "sachin[indices[1, :]].shape"
      ],
      "execution_count": 23,
      "outputs": [
        {
          "output_type": "execute_result",
          "data": {
            "text/plain": [
              "(111,)"
            ]
          },
          "metadata": {
            "tags": []
          },
          "execution_count": 23
        }
      ]
    },
    {
      "cell_type": "code",
      "metadata": {
        "colab": {
          "base_uri": "https://localhost:8080/"
        },
        "id": "qq-k8ZdHl0Zk",
        "outputId": "53ee0cfa-2ede-4498-a4e8-be29c96f7b07"
      },
      "source": [
        "for i in range(4):\n",
        "    print(i, np.mean(sachin[indices[i]]))"
      ],
      "execution_count": 24,
      "outputs": [
        {
          "output_type": "stream",
          "text": [
            "0 19.672727272727272\n",
            "1 28.18018018018018\n",
            "2 31.688622754491018\n",
            "3 39.799107142857146\n"
          ],
          "name": "stdout"
        }
      ]
    },
    {
      "cell_type": "markdown",
      "metadata": {
        "id": "lhGXKWcJoM9C"
      },
      "source": [
        "# **Problem 7**"
      ]
    },
    {
      "cell_type": "code",
      "metadata": {
        "id": "A-UApR5UoQkC"
      },
      "source": [
        "snr = cric_data[:, :2]"
      ],
      "execution_count": 25,
      "outputs": []
    },
    {
      "cell_type": "code",
      "metadata": {
        "id": "QaH2VYA2oiLg",
        "colab": {
          "base_uri": "https://localhost:8080/"
        },
        "outputId": "f7382de7-28ca-4657-8bf5-50d45f40550f"
      },
      "source": [
        "snr"
      ],
      "execution_count": 26,
      "outputs": [
        {
          "output_type": "execute_result",
          "data": {
            "text/plain": [
              "array([[100.,  78.],\n",
              "       [ 11.,  62.],\n",
              "       [  8.,  85.],\n",
              "       [ 71.,  24.],\n",
              "       [104.,  17.],\n",
              "       [ 18., 104.],\n",
              "       [  8.,  76.],\n",
              "       [ 86.,  74.],\n",
              "       [ 12.,  60.],\n",
              "       [ 85.,  12.],\n",
              "       [ 18.,  63.],\n",
              "       [  4., 107.],\n",
              "       [  7.,  76.],\n",
              "       [ 37.,   4.],\n",
              "       [ 14.,   5.],\n",
              "       [  0.,  33.],\n",
              "       [  4.,   7.],\n",
              "       [  0.,   0.],\n",
              "       [ 21.,  36.],\n",
              "       [  1.,  66.],\n",
              "       [ 62.,   0.],\n",
              "       [  0., 123.],\n",
              "       [138.,  39.],\n",
              "       [ 38.,   9.],\n",
              "       [  2.,  11.],\n",
              "       [ 46.,  14.],\n",
              "       [ 65.,   0.],\n",
              "       [  0.,   0.],\n",
              "       [ 39.,  26.],\n",
              "       [ 48.,   4.],\n",
              "       [141.,  48.],\n",
              "       [ 62.,   7.],\n",
              "       [ 12.,  73.],\n",
              "       [  1.,  86.],\n",
              "       [ 41.,  32.],\n",
              "       [ 11.,  82.],\n",
              "       [  3.,  25.],\n",
              "       [186., 153.],\n",
              "       [ 11.,  26.],\n",
              "       [ 27.,   1.],\n",
              "       [ 27.,   6.],\n",
              "       [ 51.,   3.],\n",
              "       [ 18.,   1.],\n",
              "       [ 32.,  39.],\n",
              "       [146.,  30.],\n",
              "       [  5.,  32.],\n",
              "       [ 45.,  84.],\n",
              "       [141.,  36.],\n",
              "       [ 12.,  31.],\n",
              "       [ 65.,   0.],\n",
              "       [ 27.,  47.],\n",
              "       [  7.,  13.],\n",
              "       [ 16.,  49.],\n",
              "       [  2.,  28.],\n",
              "       [ 28.,   0.],\n",
              "       [  6.,  28.],\n",
              "       [123.,  19.],\n",
              "       [120.,  13.],\n",
              "       [  7.,  14.],\n",
              "       [  3.,  11.],\n",
              "       [  0., 103.],\n",
              "       [ 81.,  43.],\n",
              "       [  2.,   5.],\n",
              "       [ 54.,   5.],\n",
              "       [122.,  15.],\n",
              "       [  4.,   0.],\n",
              "       [ 14.,   5.],\n",
              "       [  0.,  30.],\n",
              "       [100.,   4.],\n",
              "       [ 15.,  53.],\n",
              "       [  0.,  60.],\n",
              "       [ 57.,   7.],\n",
              "       [ 99.,  74.],\n",
              "       [ 37.,  71.],\n",
              "       [ 38.,  54.],\n",
              "       [ 32.,  13.],\n",
              "       [ 21.,  69.],\n",
              "       [ 32.,  33.],\n",
              "       [ 40.,  29.],\n",
              "       [  0.,   2.],\n",
              "       [  5.,   8.],\n",
              "       [  8.,  36.],\n",
              "       [  5.,  51.],\n",
              "       [  0.,   8.],\n",
              "       [ 50.,  62.],\n",
              "       [ 30.,   0.],\n",
              "       [ 37.,  22.],\n",
              "       [ 89.,  39.],\n",
              "       [  4., 104.],\n",
              "       [ 98.,  44.],\n",
              "       [ 83.,   1.],\n",
              "       [ 93.,   2.],\n",
              "       [  0.,   0.],\n",
              "       [ 52.,  17.],\n",
              "       [152.,   0.],\n",
              "       [  1.,  14.],\n",
              "       [  8.,  62.],\n",
              "       [ 93.,  15.],\n",
              "       [ 45.,  68.],\n",
              "       [ 26.,  17.],\n",
              "       [  0.,   0.],\n",
              "       [  1.,  22.],\n",
              "       [  0.,  25.],\n",
              "       [ 16.,  29.],\n",
              "       [ 47.,  60.],\n",
              "       [ 89.,  34.],\n",
              "       [  3.,  65.],\n",
              "       [  1.,   3.],\n",
              "       [ 53.,   7.],\n",
              "       [ 16.,  16.],\n",
              "       [  0.,   0.],\n",
              "       [ 81.,   4.],\n",
              "       [ 14.,  53.],\n",
              "       [ 78.,   5.],\n",
              "       [  6.,  23.],\n",
              "       [105.,  82.],\n",
              "       [122.,   3.],\n",
              "       [  9.,   0.],\n",
              "       [  8.,  20.],\n",
              "       [ 28.,  21.],\n",
              "       [ 35.,  80.],\n",
              "       [ 69.,  22.],\n",
              "       [ 13.,   8.],\n",
              "       [ 97.,  18.],\n",
              "       [ 93.,  24.],\n",
              "       [  2.,  50.],\n",
              "       [ 36.,   1.],\n",
              "       [ 39.,  42.],\n",
              "       [  2.,  61.],\n",
              "       [ 29.,   0.],\n",
              "       [ 12.,   6.],\n",
              "       [ 19.,  64.],\n",
              "       [ 34.,   9.],\n",
              "       [  2.,  46.],\n",
              "       [100.,   0.],\n",
              "       [ 44.,   0.],\n",
              "       [ 82.,   0.],\n",
              "       [  0.,   0.],\n",
              "       [ 79.,  13.],\n",
              "       [  6.,   0.],\n",
              "       [  9.,  72.],\n",
              "       [  8.,  12.],\n",
              "       [ 23.,  38.],\n",
              "       [ 93.,  79.],\n",
              "       [ 35.,  18.],\n",
              "       [ 63.,  16.],\n",
              "       [ 74.,  16.],\n",
              "       [  8.,  56.],\n",
              "       [117.,  21.],\n",
              "       [ 39.,  58.],\n",
              "       [ 49.,   8.],\n",
              "       [ 64.,   0.],\n",
              "       [ 43.,   0.],\n",
              "       [ 72.,   7.],\n",
              "       [  5.,  13.],\n",
              "       [ 17.,  77.],\n",
              "       [  0.,  29.],\n",
              "       [ 65.,  20.],\n",
              "       [ 20.,  90.],\n",
              "       [141.,  26.],\n",
              "       [ 28.,  54.],\n",
              "       [ 44.,  17.],\n",
              "       [ 27.,  78.],\n",
              "       [ 60.,  57.],\n",
              "       [ 68.,  59.],\n",
              "       [  3.,  10.],\n",
              "       [139.,  15.],\n",
              "       [ 31.,  54.],\n",
              "       [  2.,  52.],\n",
              "       [ 44.,   9.],\n",
              "       [ 47.,   0.],\n",
              "       [  6.,  18.],\n",
              "       [ 17.,   3.],\n",
              "       [ 35.,   4.],\n",
              "       [ 88.,   6.],\n",
              "       [114.,  16.],\n",
              "       [  7.,  71.],\n",
              "       [127.,  64.],\n",
              "       [  0.,   7.],\n",
              "       [ 45.,  61.],\n",
              "       [ 33.,   1.],\n",
              "       [110.,   7.],\n",
              "       [146.,   0.],\n",
              "       [  7.,   0.],\n",
              "       [ 25.,  26.],\n",
              "       [  9.,  19.],\n",
              "       [  2.,  63.],\n",
              "       [ 11.,   3.],\n",
              "       [ 17.,  46.],\n",
              "       [ 14.,  31.],\n",
              "       [  1.,  12.],\n",
              "       [ 45.,  49.],\n",
              "       [ 94.,   4.],\n",
              "       [ 28.,  99.],\n",
              "       [  4.,  47.],\n",
              "       [ 62.,  56.],\n",
              "       [  1.,  73.],\n",
              "       [  9.,  74.],\n",
              "       [ 67.,  31.],\n",
              "       [ 10.,  29.],\n",
              "       [ 99.,  92.],\n",
              "       [ 55.,   1.],\n",
              "       [  0.,   0.],\n",
              "       [  1.,  30.],\n",
              "       [101.,  16.],\n",
              "       [  2., 145.],\n",
              "       [  1.,  22.],\n",
              "       [ 16.,  31.],\n",
              "       [140., 104.],\n",
              "       [ 23.,  20.],\n",
              "       [113.,  13.],\n",
              "       [ 10.,  52.],\n",
              "       [  1.,  31.],\n",
              "       [ 41.,  12.],\n",
              "       [  1.,  50.],\n",
              "       [ 28.,   3.],\n",
              "       [  2.,   9.],\n",
              "       [ 22.,  53.],\n",
              "       [ 29.,  49.],\n",
              "       [  1.,  21.],\n",
              "       [ 25.,  14.],\n",
              "       [102.,  50.],\n",
              "       [  0.,  22.],\n",
              "       [ 27.,   0.],\n",
              "       [ 40.,   0.]])"
            ]
          },
          "metadata": {
            "tags": []
          },
          "execution_count": 26
        }
      ]
    },
    {
      "cell_type": "code",
      "metadata": {
        "id": "OAVzHLPJoinY"
      },
      "source": [
        "rahul_higher = np.argmax(snr, axis=1)"
      ],
      "execution_count": 27,
      "outputs": []
    },
    {
      "cell_type": "code",
      "metadata": {
        "colab": {
          "base_uri": "https://localhost:8080/"
        },
        "id": "oZYtGzYxoyrS",
        "outputId": "a73201fe-f467-4929-82fb-59564e540b8b"
      },
      "source": [
        "np.sum(rahul_higher)/225"
      ],
      "execution_count": 28,
      "outputs": [
        {
          "output_type": "execute_result",
          "data": {
            "text/plain": [
              "0.4711111111111111"
            ]
          },
          "metadata": {
            "tags": []
          },
          "execution_count": 28
        }
      ]
    },
    {
      "cell_type": "code",
      "metadata": {
        "colab": {
          "base_uri": "https://localhost:8080/"
        },
        "id": "cXkClSoGpHHF",
        "outputId": "b4566521-a856-423b-a1a2-8112c963e0a4"
      },
      "source": [
        "np.where(rahul_higher == 0, 'Sachin', 'Rahul')"
      ],
      "execution_count": 29,
      "outputs": [
        {
          "output_type": "execute_result",
          "data": {
            "text/plain": [
              "array(['Sachin', 'Rahul', 'Rahul', 'Sachin', 'Sachin', 'Rahul', 'Rahul',\n",
              "       'Sachin', 'Rahul', 'Sachin', 'Rahul', 'Rahul', 'Rahul', 'Sachin',\n",
              "       'Sachin', 'Rahul', 'Rahul', 'Sachin', 'Rahul', 'Rahul', 'Sachin',\n",
              "       'Rahul', 'Sachin', 'Sachin', 'Rahul', 'Sachin', 'Sachin', 'Sachin',\n",
              "       'Sachin', 'Sachin', 'Sachin', 'Sachin', 'Rahul', 'Rahul', 'Sachin',\n",
              "       'Rahul', 'Rahul', 'Sachin', 'Rahul', 'Sachin', 'Sachin', 'Sachin',\n",
              "       'Sachin', 'Rahul', 'Sachin', 'Rahul', 'Rahul', 'Sachin', 'Rahul',\n",
              "       'Sachin', 'Rahul', 'Rahul', 'Rahul', 'Rahul', 'Sachin', 'Rahul',\n",
              "       'Sachin', 'Sachin', 'Rahul', 'Rahul', 'Rahul', 'Sachin', 'Rahul',\n",
              "       'Sachin', 'Sachin', 'Sachin', 'Sachin', 'Rahul', 'Sachin', 'Rahul',\n",
              "       'Rahul', 'Sachin', 'Sachin', 'Rahul', 'Rahul', 'Sachin', 'Rahul',\n",
              "       'Rahul', 'Sachin', 'Rahul', 'Rahul', 'Rahul', 'Rahul', 'Rahul',\n",
              "       'Rahul', 'Sachin', 'Sachin', 'Sachin', 'Rahul', 'Sachin', 'Sachin',\n",
              "       'Sachin', 'Sachin', 'Sachin', 'Sachin', 'Rahul', 'Rahul', 'Sachin',\n",
              "       'Rahul', 'Sachin', 'Sachin', 'Rahul', 'Rahul', 'Rahul', 'Rahul',\n",
              "       'Sachin', 'Rahul', 'Rahul', 'Sachin', 'Sachin', 'Sachin', 'Sachin',\n",
              "       'Rahul', 'Sachin', 'Rahul', 'Sachin', 'Sachin', 'Sachin', 'Rahul',\n",
              "       'Sachin', 'Rahul', 'Sachin', 'Sachin', 'Sachin', 'Sachin', 'Rahul',\n",
              "       'Sachin', 'Rahul', 'Rahul', 'Sachin', 'Sachin', 'Rahul', 'Sachin',\n",
              "       'Rahul', 'Sachin', 'Sachin', 'Sachin', 'Sachin', 'Sachin',\n",
              "       'Sachin', 'Rahul', 'Rahul', 'Rahul', 'Sachin', 'Sachin', 'Sachin',\n",
              "       'Sachin', 'Rahul', 'Sachin', 'Rahul', 'Sachin', 'Sachin', 'Sachin',\n",
              "       'Sachin', 'Rahul', 'Rahul', 'Rahul', 'Sachin', 'Rahul', 'Sachin',\n",
              "       'Rahul', 'Sachin', 'Rahul', 'Sachin', 'Sachin', 'Rahul', 'Sachin',\n",
              "       'Rahul', 'Rahul', 'Sachin', 'Sachin', 'Rahul', 'Sachin', 'Sachin',\n",
              "       'Sachin', 'Sachin', 'Rahul', 'Sachin', 'Rahul', 'Rahul', 'Sachin',\n",
              "       'Sachin', 'Sachin', 'Sachin', 'Rahul', 'Rahul', 'Rahul', 'Sachin',\n",
              "       'Rahul', 'Rahul', 'Rahul', 'Rahul', 'Sachin', 'Rahul', 'Rahul',\n",
              "       'Sachin', 'Rahul', 'Rahul', 'Sachin', 'Rahul', 'Sachin', 'Sachin',\n",
              "       'Sachin', 'Rahul', 'Sachin', 'Rahul', 'Rahul', 'Rahul', 'Sachin',\n",
              "       'Sachin', 'Sachin', 'Rahul', 'Rahul', 'Sachin', 'Rahul', 'Sachin',\n",
              "       'Rahul', 'Rahul', 'Rahul', 'Rahul', 'Sachin', 'Sachin', 'Rahul',\n",
              "       'Sachin', 'Sachin'], dtype='<U6')"
            ]
          },
          "metadata": {
            "tags": []
          },
          "execution_count": 29
        }
      ]
    },
    {
      "cell_type": "markdown",
      "metadata": {
        "id": "M2ngHTmGpWv9"
      },
      "source": [
        "# **Problem 8**"
      ]
    },
    {
      "cell_type": "code",
      "metadata": {
        "id": "Qi3TT62xpTgA"
      },
      "source": [
        "x_arr = np.arange(0, 101, 5)"
      ],
      "execution_count": 30,
      "outputs": []
    },
    {
      "cell_type": "code",
      "metadata": {
        "colab": {
          "base_uri": "https://localhost:8080/",
          "height": 163
        },
        "id": "YgqJ1mgHsCcu",
        "outputId": "8ef306fd-78ea-4cb9-b8ea-c735309d5d67"
      },
      "source": [
        "sachin < x_arr"
      ],
      "execution_count": null,
      "outputs": [
        {
          "output_type": "error",
          "ename": "ValueError",
          "evalue": "ignored",
          "traceback": [
            "\u001b[0;31m---------------------------------------------------------------------------\u001b[0m",
            "\u001b[0;31mValueError\u001b[0m                                Traceback (most recent call last)",
            "\u001b[0;32m<ipython-input-77-28e953223816>\u001b[0m in \u001b[0;36m<module>\u001b[0;34m()\u001b[0m\n\u001b[0;32m----> 1\u001b[0;31m \u001b[0msachin\u001b[0m \u001b[0;34m<\u001b[0m \u001b[0mx_arr\u001b[0m\u001b[0;34m\u001b[0m\u001b[0;34m\u001b[0m\u001b[0m\n\u001b[0m",
            "\u001b[0;31mValueError\u001b[0m: operands could not be broadcast together with shapes (225,) (21,) "
          ]
        }
      ]
    },
    {
      "cell_type": "code",
      "metadata": {
        "id": "fCCp1O4hsmRM"
      },
      "source": [
        "x_arr = x_arr.reshape(x_arr.shape[0],1)"
      ],
      "execution_count": 31,
      "outputs": []
    },
    {
      "cell_type": "code",
      "metadata": {
        "id": "A9K9UCn4sx6E"
      },
      "source": [
        "indices = (sachin >= x_arr)"
      ],
      "execution_count": 32,
      "outputs": []
    },
    {
      "cell_type": "code",
      "metadata": {
        "colab": {
          "base_uri": "https://localhost:8080/"
        },
        "id": "vJ6l_OFNvhuy",
        "outputId": "811bb44d-6ed7-48fd-8fb0-8b2d0ba7604b"
      },
      "source": [
        "indices"
      ],
      "execution_count": 33,
      "outputs": [
        {
          "output_type": "execute_result",
          "data": {
            "text/plain": [
              "array([[ True,  True,  True, ...,  True,  True,  True],\n",
              "       [ True,  True,  True, ..., False,  True,  True],\n",
              "       [ True,  True, False, ..., False,  True,  True],\n",
              "       ...,\n",
              "       [ True, False, False, ..., False, False, False],\n",
              "       [ True, False, False, ..., False, False, False],\n",
              "       [ True, False, False, ..., False, False, False]])"
            ]
          },
          "metadata": {
            "tags": []
          },
          "execution_count": 33
        }
      ]
    },
    {
      "cell_type": "code",
      "metadata": {
        "colab": {
          "base_uri": "https://localhost:8080/"
        },
        "id": "YM7HZ5SFwSAE",
        "outputId": "94b1cdc6-140a-49f5-bdeb-4b97a825f6ea"
      },
      "source": [
        "sachin[indices[1, :]]"
      ],
      "execution_count": 34,
      "outputs": [
        {
          "output_type": "execute_result",
          "data": {
            "text/plain": [
              "array([100.,  11.,   8.,  71., 104.,  18.,   8.,  86.,  12.,  85.,  18.,\n",
              "         7.,  37.,  14.,  21.,  62., 138.,  38.,  46.,  65.,  39.,  48.,\n",
              "       141.,  62.,  12.,  41.,  11., 186.,  11.,  27.,  27.,  51.,  18.,\n",
              "        32., 146.,   5.,  45., 141.,  12.,  65.,  27.,   7.,  16.,  28.,\n",
              "         6., 123., 120.,   7.,  81.,  54., 122.,  14., 100.,  15.,  57.,\n",
              "        99.,  37.,  38.,  32.,  21.,  32.,  40.,   5.,   8.,   5.,  50.,\n",
              "        30.,  37.,  89.,  98.,  83.,  93.,  52., 152.,   8.,  93.,  45.,\n",
              "        26.,  16.,  47.,  89.,  53.,  16.,  81.,  14.,  78.,   6., 105.,\n",
              "       122.,   9.,   8.,  28.,  35.,  69.,  13.,  97.,  93.,  36.,  39.,\n",
              "        29.,  12.,  19.,  34., 100.,  44.,  82.,  79.,   6.,   9.,   8.,\n",
              "        23.,  93.,  35.,  63.,  74.,   8., 117.,  39.,  49.,  64.,  43.,\n",
              "        72.,   5.,  17.,  65.,  20., 141.,  28.,  44.,  27.,  60.,  68.,\n",
              "       139.,  31.,  44.,  47.,   6.,  17.,  35.,  88., 114.,   7., 127.,\n",
              "        45.,  33., 110., 146.,   7.,  25.,   9.,  11.,  17.,  14.,  45.,\n",
              "        94.,  28.,  62.,   9.,  67.,  10.,  99.,  55., 101.,  16., 140.,\n",
              "        23., 113.,  10.,  41.,  28.,  22.,  29.,  25., 102.,  27.,  40.])"
            ]
          },
          "metadata": {
            "tags": []
          },
          "execution_count": 34
        }
      ]
    },
    {
      "cell_type": "code",
      "metadata": {
        "colab": {
          "base_uri": "https://localhost:8080/"
        },
        "id": "zL5HjvbwtB0U",
        "outputId": "4c6fab42-9f90-49e7-b1ee-39e647aba931"
      },
      "source": [
        "indices.shape"
      ],
      "execution_count": 35,
      "outputs": [
        {
          "output_type": "execute_result",
          "data": {
            "text/plain": [
              "(21, 225)"
            ]
          },
          "metadata": {
            "tags": []
          },
          "execution_count": 35
        }
      ]
    },
    {
      "cell_type": "code",
      "metadata": {
        "colab": {
          "base_uri": "https://localhost:8080/"
        },
        "id": "MWI9mPn4tQSf",
        "outputId": "cf9ffbdb-455e-4907-fe9e-dde25d5ec7a3"
      },
      "source": [
        "for i in range(x_arr.shape[0]):\n",
        "  print(x_arr[i, 0], np.mean(sachin[indices[i, :]]) - x_arr[i, 0])\n"
      ],
      "execution_count": 36,
      "outputs": [
        {
          "output_type": "stream",
          "text": [
            "0 39.87555555555556\n",
            "5 45.61363636363637\n",
            "10 47.48026315789474\n",
            "15 47.45255474452555\n",
            "20 46.824\n",
            "25 44.10084033613445\n",
            "30 45.13461538461539\n",
            "35 43.24742268041237\n",
            "40 44.05882352941177\n",
            "45 43.41558441558442\n",
            "50 43.98529411764706\n",
            "55 42.317460317460316\n",
            "60 38.67213114754098\n",
            "65 37.654545454545456\n",
            "70 37.08163265306122\n",
            "75 34.347826086956516\n",
            "80 30.75\n",
            "85 28.650000000000006\n",
            "90 27.400000000000006\n",
            "95 26.433333333333337\n",
            "100 25.0\n"
          ],
          "name": "stdout"
        }
      ]
    },
    {
      "cell_type": "markdown",
      "metadata": {
        "id": "4JYG2ZZg0EDU"
      },
      "source": [
        "# **Problem 9**"
      ]
    },
    {
      "cell_type": "code",
      "metadata": {
        "colab": {
          "base_uri": "https://localhost:8080/"
        },
        "id": "jzJFfBD6whNx",
        "outputId": "69c45f64-3ca7-4603-e9e0-9847075e7db3"
      },
      "source": [
        "sachin"
      ],
      "execution_count": 37,
      "outputs": [
        {
          "output_type": "execute_result",
          "data": {
            "text/plain": [
              "array([100.,  11.,   8.,  71., 104.,  18.,   8.,  86.,  12.,  85.,  18.,\n",
              "         4.,   7.,  37.,  14.,   0.,   4.,   0.,  21.,   1.,  62.,   0.,\n",
              "       138.,  38.,   2.,  46.,  65.,   0.,  39.,  48., 141.,  62.,  12.,\n",
              "         1.,  41.,  11.,   3., 186.,  11.,  27.,  27.,  51.,  18.,  32.,\n",
              "       146.,   5.,  45., 141.,  12.,  65.,  27.,   7.,  16.,   2.,  28.,\n",
              "         6., 123., 120.,   7.,   3.,   0.,  81.,   2.,  54., 122.,   4.,\n",
              "        14.,   0., 100.,  15.,   0.,  57.,  99.,  37.,  38.,  32.,  21.,\n",
              "        32.,  40.,   0.,   5.,   8.,   5.,   0.,  50.,  30.,  37.,  89.,\n",
              "         4.,  98.,  83.,  93.,   0.,  52., 152.,   1.,   8.,  93.,  45.,\n",
              "        26.,   0.,   1.,   0.,  16.,  47.,  89.,   3.,   1.,  53.,  16.,\n",
              "         0.,  81.,  14.,  78.,   6., 105., 122.,   9.,   8.,  28.,  35.,\n",
              "        69.,  13.,  97.,  93.,   2.,  36.,  39.,   2.,  29.,  12.,  19.,\n",
              "        34.,   2., 100.,  44.,  82.,   0.,  79.,   6.,   9.,   8.,  23.,\n",
              "        93.,  35.,  63.,  74.,   8., 117.,  39.,  49.,  64.,  43.,  72.,\n",
              "         5.,  17.,   0.,  65.,  20., 141.,  28.,  44.,  27.,  60.,  68.,\n",
              "         3., 139.,  31.,   2.,  44.,  47.,   6.,  17.,  35.,  88., 114.,\n",
              "         7., 127.,   0.,  45.,  33., 110., 146.,   7.,  25.,   9.,   2.,\n",
              "        11.,  17.,  14.,   1.,  45.,  94.,  28.,   4.,  62.,   1.,   9.,\n",
              "        67.,  10.,  99.,  55.,   0.,   1., 101.,   2.,   1.,  16., 140.,\n",
              "        23., 113.,  10.,   1.,  41.,   1.,  28.,   2.,  22.,  29.,   1.,\n",
              "        25., 102.,   0.,  27.,  40.])"
            ]
          },
          "metadata": {
            "tags": []
          },
          "execution_count": 37
        }
      ]
    },
    {
      "cell_type": "code",
      "metadata": {
        "id": "kratw2NIzSn4"
      },
      "source": [
        "sachin_cumsum = np.cumsum(sachin)"
      ],
      "execution_count": 38,
      "outputs": []
    },
    {
      "cell_type": "code",
      "metadata": {
        "colab": {
          "base_uri": "https://localhost:8080/"
        },
        "id": "c1ahUgL5zbrz",
        "outputId": "964c19df-e511-4c84-ba64-9ffef3b51c7d"
      },
      "source": [
        "np.histogram(sachin_cumsum, bins = np.arange(0,10000,1000))"
      ],
      "execution_count": 39,
      "outputs": [
        {
          "output_type": "execute_result",
          "data": {
            "text/plain": [
              "(array([29, 18, 26, 25, 26, 26, 23, 22, 30]),\n",
              " array([   0, 1000, 2000, 3000, 4000, 5000, 6000, 7000, 8000, 9000]))"
            ]
          },
          "metadata": {
            "tags": []
          },
          "execution_count": 39
        }
      ]
    },
    {
      "cell_type": "code",
      "metadata": {
        "id": "sYIPqkN2zxKZ"
      },
      "source": [
        ""
      ],
      "execution_count": 39,
      "outputs": []
    }
  ]
}