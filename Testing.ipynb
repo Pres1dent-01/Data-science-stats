{
  "nbformat": 4,
  "nbformat_minor": 0,
  "metadata": {
    "colab": {
      "name": "Testing.ipynb",
      "provenance": []
    },
    "kernelspec": {
      "name": "python3",
      "display_name": "Python 3"
    },
    "language_info": {
      "name": "python"
    }
  },
  "cells": [
    {
      "cell_type": "markdown",
      "metadata": {
        "id": "EMi4JBWXz4Aq"
      },
      "source": [
        "Collect numbers for the diameters of these planets (heavenly bodies) and store it as a Series object. Then given these two Series objects mass and diameter, compute the density of each planet."
      ]
    },
    {
      "cell_type": "code",
      "metadata": {
        "id": "LMw9rFTozpnz"
      },
      "source": [
        "import pandas as pd\n",
        "import numpy as np"
      ],
      "execution_count": null,
      "outputs": []
    },
    {
      "cell_type": "code",
      "metadata": {
        "id": "vMy3rsw94TVm"
      },
      "source": [
        "mass = pd.Series([0.33, 4.87, 5.97, 0.642, 1898, 568, 86.8, 102, 0.0146], \n",
        "                 index=['Mercury', 'Venus', 'Earth', 'Mars', 'Jupiter', 'Saturn', 'Uranus', 'Neptune', 'Pluto'])"
      ],
      "execution_count": null,
      "outputs": []
    },
    {
      "cell_type": "code",
      "metadata": {
        "id": "XvtKCI7I0ACg"
      },
      "source": [
        "diameter = pd.Series([4879.4, 12104, 12742, 6779, 139820, 116460, 50724, 49244, 2373.6], index=['Mercury', 'Venus', 'Earth', 'Mars', 'Jupiter', 'Saturn', 'Uranus', 'Neptune', 'Pluto'])"
      ],
      "execution_count": null,
      "outputs": []
    },
    {
      "cell_type": "code",
      "metadata": {
        "id": "D-O-ND6D72_N"
      },
      "source": [
        "mass['PlanetX'] = 6"
      ],
      "execution_count": null,
      "outputs": []
    },
    {
      "cell_type": "code",
      "metadata": {
        "colab": {
          "base_uri": "https://localhost:8080/"
        },
        "id": "0-bx8m0L1hpV",
        "outputId": "b082bbc1-b9f4-459b-af9e-f66b20e4ce53"
      },
      "source": [
        "diameter"
      ],
      "execution_count": null,
      "outputs": [
        {
          "output_type": "execute_result",
          "data": {
            "text/plain": [
              "Mercury      4879.4\n",
              "Venus       12104.0\n",
              "Earth       12742.0\n",
              "Mars         6779.0\n",
              "Jupiter    139820.0\n",
              "Saturn     116460.0\n",
              "Uranus      50724.0\n",
              "Neptune     49244.0\n",
              "Pluto        2373.6\n",
              "dtype: float64"
            ]
          },
          "metadata": {
            "tags": []
          },
          "execution_count": 6
        }
      ]
    },
    {
      "cell_type": "code",
      "metadata": {
        "colab": {
          "base_uri": "https://localhost:8080/"
        },
        "id": "CnYDbK7x1kFV",
        "outputId": "ba0de17d-4167-4487-cb84-5955705970a1"
      },
      "source": [
        "mass"
      ],
      "execution_count": null,
      "outputs": [
        {
          "output_type": "execute_result",
          "data": {
            "text/plain": [
              "Mercury       0.3300\n",
              "Venus         4.8700\n",
              "Earth         5.9700\n",
              "Mars          0.6420\n",
              "Jupiter    1898.0000\n",
              "Saturn      568.0000\n",
              "Uranus       86.8000\n",
              "Neptune     102.0000\n",
              "Pluto         0.0146\n",
              "PlanetX       6.0000\n",
              "dtype: float64"
            ]
          },
          "metadata": {
            "tags": []
          },
          "execution_count": 7
        }
      ]
    },
    {
      "cell_type": "code",
      "metadata": {
        "colab": {
          "base_uri": "https://localhost:8080/"
        },
        "id": "OzfTTBxF6GvH",
        "outputId": "a79a06b2-8451-495e-daf4-4140fbd14eb0"
      },
      "source": [
        "density = pd.Series()"
      ],
      "execution_count": null,
      "outputs": [
        {
          "output_type": "stream",
          "text": [
            "/usr/local/lib/python3.7/dist-packages/ipykernel_launcher.py:1: DeprecationWarning: The default dtype for empty Series will be 'object' instead of 'float64' in a future version. Specify a dtype explicitly to silence this warning.\n",
            "  \"\"\"Entry point for launching an IPython kernel.\n"
          ],
          "name": "stderr"
        }
      ]
    },
    {
      "cell_type": "code",
      "metadata": {
        "colab": {
          "base_uri": "https://localhost:8080/",
          "height": 180
        },
        "id": "W2j0oAJ04hgo",
        "outputId": "99666fe3-a167-4123-87a7-201618d04582"
      },
      "source": [
        "for planet in mass.index:\n",
        "  density[planet] = (mass[planet]) / (np.pi * np.power(diameter[planet], 3)/6)"
      ],
      "execution_count": null,
      "outputs": [
        {
          "output_type": "error",
          "ename": "NameError",
          "evalue": "ignored",
          "traceback": [
            "\u001b[0;31m---------------------------------------------------------------------------\u001b[0m",
            "\u001b[0;31mNameError\u001b[0m                                 Traceback (most recent call last)",
            "\u001b[0;32m<ipython-input-4-690abf5c1a62>\u001b[0m in \u001b[0;36m<module>\u001b[0;34m()\u001b[0m\n\u001b[1;32m      1\u001b[0m \u001b[0;32mfor\u001b[0m \u001b[0mplanet\u001b[0m \u001b[0;32min\u001b[0m \u001b[0mmass\u001b[0m\u001b[0;34m.\u001b[0m\u001b[0mindex\u001b[0m\u001b[0;34m:\u001b[0m\u001b[0;34m\u001b[0m\u001b[0;34m\u001b[0m\u001b[0m\n\u001b[0;32m----> 2\u001b[0;31m   \u001b[0mdensity\u001b[0m\u001b[0;34m[\u001b[0m\u001b[0mplanet\u001b[0m\u001b[0;34m]\u001b[0m \u001b[0;34m=\u001b[0m \u001b[0;34m(\u001b[0m\u001b[0mmass\u001b[0m\u001b[0;34m[\u001b[0m\u001b[0mplanet\u001b[0m\u001b[0;34m]\u001b[0m\u001b[0;34m)\u001b[0m \u001b[0;34m/\u001b[0m \u001b[0;34m(\u001b[0m\u001b[0mnp\u001b[0m\u001b[0;34m.\u001b[0m\u001b[0mpi\u001b[0m \u001b[0;34m*\u001b[0m \u001b[0mnp\u001b[0m\u001b[0;34m.\u001b[0m\u001b[0mpower\u001b[0m\u001b[0;34m(\u001b[0m\u001b[0mdiameter\u001b[0m\u001b[0;34m[\u001b[0m\u001b[0mplanet\u001b[0m\u001b[0;34m]\u001b[0m\u001b[0;34m,\u001b[0m \u001b[0;36m3\u001b[0m\u001b[0;34m)\u001b[0m\u001b[0;34m/\u001b[0m\u001b[0;36m6\u001b[0m\u001b[0;34m)\u001b[0m\u001b[0;34m\u001b[0m\u001b[0;34m\u001b[0m\u001b[0m\n\u001b[0m",
            "\u001b[0;31mNameError\u001b[0m: name 'density' is not defined"
          ]
        }
      ]
    },
    {
      "cell_type": "code",
      "metadata": {
        "colab": {
          "base_uri": "https://localhost:8080/"
        },
        "id": "GA9P1-oT52LJ",
        "outputId": "978c0a92-b127-4e9a-f6f4-5ce477092bce"
      },
      "source": [
        "density"
      ],
      "execution_count": null,
      "outputs": [
        {
          "output_type": "execute_result",
          "data": {
            "text/plain": [
              "Series([], dtype: float64)"
            ]
          },
          "metadata": {
            "tags": []
          },
          "execution_count": 9
        }
      ]
    },
    {
      "cell_type": "code",
      "metadata": {
        "id": "5TqmrgDD6LSk"
      },
      "source": [
        "density = mass / (np.pi * np.power(diameter, 3)/6)"
      ],
      "execution_count": null,
      "outputs": []
    },
    {
      "cell_type": "code",
      "metadata": {
        "colab": {
          "base_uri": "https://localhost:8080/"
        },
        "id": "ynq05jVc7Ake",
        "outputId": "cbcea8d3-44c6-4ea0-838e-f9eff58a771b"
      },
      "source": [
        "density"
      ],
      "execution_count": null,
      "outputs": [
        {
          "output_type": "execute_result",
          "data": {
            "text/plain": [
              "Earth      5.511412e-12\n",
              "Jupiter    1.326141e-12\n",
              "Mars       3.935859e-12\n",
              "Mercury    5.425204e-12\n",
              "Neptune    1.631329e-12\n",
              "PlanetX             NaN\n",
              "Pluto      2.085123e-12\n",
              "Saturn     6.867827e-13\n",
              "Uranus     1.270225e-12\n",
              "Venus      5.244977e-12\n",
              "dtype: float64"
            ]
          },
          "metadata": {
            "tags": []
          },
          "execution_count": 11
        }
      ]
    },
    {
      "cell_type": "markdown",
      "metadata": {
        "id": "t_WlvFjO8I3c"
      },
      "source": [
        "Given this density Series, replace all values which NaNs with the mean density of all planets"
      ]
    },
    {
      "cell_type": "code",
      "metadata": {
        "colab": {
          "base_uri": "https://localhost:8080/"
        },
        "id": "K2_ppQX-YxKg",
        "outputId": "0b09d987-9eb5-478c-8c1b-3f890609bb36"
      },
      "source": [
        "density.index"
      ],
      "execution_count": null,
      "outputs": [
        {
          "output_type": "execute_result",
          "data": {
            "text/plain": [
              "Index(['Earth', 'Jupiter', 'Mars', 'Mercury', 'Neptune', 'PlanetX', 'Pluto',\n",
              "       'Saturn', 'Uranus', 'Venus'],\n",
              "      dtype='object')"
            ]
          },
          "metadata": {
            "tags": []
          },
          "execution_count": 12
        }
      ]
    },
    {
      "cell_type": "code",
      "metadata": {
        "id": "hYMPBHROZffy"
      },
      "source": [
        "density_mean = np.mean(density)"
      ],
      "execution_count": null,
      "outputs": []
    },
    {
      "cell_type": "code",
      "metadata": {
        "id": "ePPPiIFJ8usM",
        "colab": {
          "base_uri": "https://localhost:8080/"
        },
        "outputId": "55b397f8-854b-4e99-90f1-acee3e5823fe"
      },
      "source": [
        "%%time\n",
        "for key in density.index:\n",
        "  if pd.isnull(density[key]):\n",
        "    density[key] = density_mean"
      ],
      "execution_count": null,
      "outputs": [
        {
          "output_type": "stream",
          "text": [
            "CPU times: user 0 ns, sys: 206 µs, total: 206 µs\n",
            "Wall time: 210 µs\n"
          ],
          "name": "stdout"
        }
      ]
    },
    {
      "cell_type": "code",
      "metadata": {
        "colab": {
          "base_uri": "https://localhost:8080/"
        },
        "id": "oGleMij7Zvzy",
        "outputId": "ea41088c-bd91-4ebb-b8ae-02b2ba220ac3"
      },
      "source": [
        "density"
      ],
      "execution_count": null,
      "outputs": [
        {
          "output_type": "execute_result",
          "data": {
            "text/plain": [
              "Earth      5.511412e-12\n",
              "Jupiter    1.326141e-12\n",
              "Mars       3.935859e-12\n",
              "Mercury    5.425204e-12\n",
              "Neptune    1.631329e-12\n",
              "PlanetX    3.013006e-12\n",
              "Pluto      2.085123e-12\n",
              "Saturn     6.867827e-13\n",
              "Uranus     1.270225e-12\n",
              "Venus      5.244977e-12\n",
              "dtype: float64"
            ]
          },
          "metadata": {
            "tags": []
          },
          "execution_count": 17
        }
      ]
    },
    {
      "cell_type": "code",
      "metadata": {
        "colab": {
          "base_uri": "https://localhost:8080/"
        },
        "id": "o0FJDOqAabac",
        "outputId": "e09dead8-3510-4018-88c0-5c53432c7b17"
      },
      "source": [
        "%%time\n",
        "density[pd.isnull(density)] = np.mean(density)"
      ],
      "execution_count": null,
      "outputs": [
        {
          "output_type": "stream",
          "text": [
            "CPU times: user 3.48 ms, sys: 48 µs, total: 3.53 ms\n",
            "Wall time: 3.45 ms\n"
          ],
          "name": "stdout"
        }
      ]
    },
    {
      "cell_type": "code",
      "metadata": {
        "colab": {
          "base_uri": "https://localhost:8080/"
        },
        "id": "iuV1tRnIa8sd",
        "outputId": "737735a3-ae8f-4e0a-eebf-3e806654fe2d"
      },
      "source": [
        "print(density)"
      ],
      "execution_count": null,
      "outputs": [
        {
          "output_type": "stream",
          "text": [
            "Earth      5.511412e-12\n",
            "Jupiter    1.326141e-12\n",
            "Mars       3.935859e-12\n",
            "Mercury    5.425204e-12\n",
            "Neptune    1.631329e-12\n",
            "PlanetX    3.013006e-12\n",
            "Pluto      2.085123e-12\n",
            "Saturn     6.867827e-13\n",
            "Uranus     1.270225e-12\n",
            "Venus      5.244977e-12\n",
            "dtype: float64\n"
          ],
          "name": "stdout"
        }
      ]
    },
    {
      "cell_type": "code",
      "metadata": {
        "colab": {
          "base_uri": "https://localhost:8080/"
        },
        "id": "8qxPOEHl7BZu",
        "outputId": "2c53b020-a993-4ef8-d143-3b59dbdeb177"
      },
      "source": [
        "%%time\n",
        "replaced = np.nan_to_num(density, copy=False, nan = np.mean(density)) #alternative method "
      ],
      "execution_count": null,
      "outputs": [
        {
          "output_type": "stream",
          "text": [
            "CPU times: user 652 µs, sys: 0 ns, total: 652 µs\n",
            "Wall time: 627 µs\n"
          ],
          "name": "stdout"
        },
        {
          "output_type": "execute_result",
          "data": {
            "text/plain": [
              "array([5.51141237e-12, 1.32614097e-12, 3.93585875e-12, 5.42520373e-12,\n",
              "       1.63132909e-12, 3.01300582e-12, 2.08512278e-12, 6.86782715e-13,\n",
              "       1.27022490e-12, 5.24497707e-12])"
            ]
          },
          "metadata": {
            "tags": []
          },
          "execution_count": 19
        }
      ]
    },
    {
      "cell_type": "markdown",
      "metadata": {
        "id": "kMMJQp-sdmJ5"
      },
      "source": [
        "Compare Dictionary with Series: \n",
        "- checking if some key is present\n",
        "- summing values\n",
        "- computing std"
      ]
    },
    {
      "cell_type": "code",
      "metadata": {
        "id": "eds-6D6qfL2y"
      },
      "source": [
        "import pandas as pd\n",
        "import numpy as np"
      ],
      "execution_count": null,
      "outputs": []
    },
    {
      "cell_type": "code",
      "metadata": {
        "id": "X8gqJHHSX1pe"
      },
      "source": [
        "my_dict = {}\n",
        "N = 10000000\n",
        "for i in range(N):\n",
        "  my_dict[i] = i%10"
      ],
      "execution_count": null,
      "outputs": []
    },
    {
      "cell_type": "code",
      "metadata": {
        "id": "8NfH47aKeHW3"
      },
      "source": [
        "my_series = pd.Series(my_dict)"
      ],
      "execution_count": null,
      "outputs": []
    },
    {
      "cell_type": "code",
      "metadata": {
        "id": "OiKZ09_TeVBo"
      },
      "source": [
        "M = 10000"
      ],
      "execution_count": null,
      "outputs": []
    },
    {
      "cell_type": "code",
      "metadata": {
        "id": "mcJpS03JegQa"
      },
      "source": [
        "arr = np.random.randint(0, N, M)"
      ],
      "execution_count": null,
      "outputs": []
    },
    {
      "cell_type": "code",
      "metadata": {
        "colab": {
          "base_uri": "https://localhost:8080/"
        },
        "id": "zCl9SoZ6eq0i",
        "outputId": "b777d3d9-1d24-4eb6-ba1a-19e95655f919"
      },
      "source": [
        "%%timeit\n",
        "for i in arr:\n",
        "  i in my_dict"
      ],
      "execution_count": null,
      "outputs": [
        {
          "output_type": "stream",
          "text": [
            "100 loops, best of 5: 14.4 ms per loop\n"
          ],
          "name": "stdout"
        }
      ]
    },
    {
      "cell_type": "code",
      "metadata": {
        "colab": {
          "base_uri": "https://localhost:8080/"
        },
        "id": "jBij2im6e2LY",
        "outputId": "69c2d875-18a8-477a-ddde-dc367bb13df8"
      },
      "source": [
        "%%timeit\n",
        "for i in arr:\n",
        "  i in my_series"
      ],
      "execution_count": null,
      "outputs": [
        {
          "output_type": "stream",
          "text": [
            "100 loops, best of 5: 13.5 ms per loop\n"
          ],
          "name": "stdout"
        }
      ]
    },
    {
      "cell_type": "code",
      "metadata": {
        "colab": {
          "base_uri": "https://localhost:8080/"
        },
        "id": "inw9na9Ee6Kj",
        "outputId": "73a45f2e-30d6-4b74-8ccd-11ef9c919e45"
      },
      "source": [
        "%%timeit\n",
        "sum(my_dict.values())"
      ],
      "execution_count": null,
      "outputs": [
        {
          "output_type": "stream",
          "text": [
            "10 loops, best of 5: 111 ms per loop\n"
          ],
          "name": "stdout"
        }
      ]
    },
    {
      "cell_type": "code",
      "metadata": {
        "colab": {
          "base_uri": "https://localhost:8080/"
        },
        "id": "gYEqo6mtfnMx",
        "outputId": "035a7a00-46d8-4705-f60e-84208b9f497b"
      },
      "source": [
        "%%timeit\n",
        "np.sum(my_series)"
      ],
      "execution_count": null,
      "outputs": [
        {
          "output_type": "stream",
          "text": [
            "100 loops, best of 5: 14.4 ms per loop\n"
          ],
          "name": "stdout"
        }
      ]
    },
    {
      "cell_type": "code",
      "metadata": {
        "colab": {
          "base_uri": "https://localhost:8080/"
        },
        "id": "xAu1Chu8fwGg",
        "outputId": "abb339ca-78d3-4317-b09b-7c9e39f5d776"
      },
      "source": [
        "%%timeit\n",
        "mean = sum(my_dict.values())/N\n",
        "variance = sum([(x - mean)**2 for x in my_dict.values()])\n",
        "std = variance ** 0.5"
      ],
      "execution_count": null,
      "outputs": [
        {
          "output_type": "stream",
          "text": [
            "1 loop, best of 5: 1.88 s per loop\n"
          ],
          "name": "stdout"
        }
      ]
    },
    {
      "cell_type": "code",
      "metadata": {
        "colab": {
          "base_uri": "https://localhost:8080/"
        },
        "id": "Z4c3iwr-gunn",
        "outputId": "383a33b1-796b-4d92-9b64-befaf560c942"
      },
      "source": [
        "%%timeit\n",
        "np.std(my_series)"
      ],
      "execution_count": null,
      "outputs": [
        {
          "output_type": "stream",
          "text": [
            "10 loops, best of 5: 38.3 ms per loop\n"
          ],
          "name": "stdout"
        }
      ]
    },
    {
      "cell_type": "markdown",
      "metadata": {
        "id": "3aqnD_7ulcDn"
      },
      "source": [
        "# **Nifty Case study**"
      ]
    },
    {
      "cell_type": "code",
      "metadata": {
        "id": "x6jUbcyX6Ty-"
      },
      "source": [
        "import numpy as np\n",
        "import pandas as pd"
      ],
      "execution_count": null,
      "outputs": []
    },
    {
      "cell_type": "code",
      "metadata": {
        "id": "vwrboU9nlfcf"
      },
      "source": [
        "nifty = pd.read_csv('nifty.csv', index_col=0).iloc[:,0]"
      ],
      "execution_count": null,
      "outputs": []
    },
    {
      "cell_type": "code",
      "metadata": {
        "colab": {
          "base_uri": "https://localhost:8080/"
        },
        "id": "iT1I9QkPl-MK",
        "outputId": "d3449eab-5020-4dc1-ef29-db0aed754ae3"
      },
      "source": [
        "nifty"
      ],
      "execution_count": null,
      "outputs": [
        {
          "output_type": "execute_result",
          "data": {
            "text/plain": [
              "Date\n",
              "01-Jan-2019    10910.10\n",
              "02-Jan-2019    10792.50\n",
              "03-Jan-2019    10672.25\n",
              "04-Jan-2019    10727.35\n",
              "07-Jan-2019    10771.80\n",
              "                 ...   \n",
              "24-Dec-2019    12214.55\n",
              "26-Dec-2019    12126.55\n",
              "27-Dec-2019    12245.80\n",
              "30-Dec-2019    12255.85\n",
              "31-Dec-2019    12168.45\n",
              "Name: Close, Length: 245, dtype: float64"
            ]
          },
          "metadata": {
            "tags": []
          },
          "execution_count": 73
        }
      ]
    },
    {
      "cell_type": "code",
      "metadata": {
        "colab": {
          "base_uri": "https://localhost:8080/"
        },
        "id": "TvGd4FSEl-7-",
        "outputId": "0e58991b-3fa6-4d2c-9886-f71eef888316"
      },
      "source": [
        "nifty[1:]"
      ],
      "execution_count": null,
      "outputs": [
        {
          "output_type": "execute_result",
          "data": {
            "text/plain": [
              "Date\n",
              "02-Jan-2019    10792.50\n",
              "03-Jan-2019    10672.25\n",
              "04-Jan-2019    10727.35\n",
              "07-Jan-2019    10771.80\n",
              "08-Jan-2019    10802.15\n",
              "                 ...   \n",
              "24-Dec-2019    12214.55\n",
              "26-Dec-2019    12126.55\n",
              "27-Dec-2019    12245.80\n",
              "30-Dec-2019    12255.85\n",
              "31-Dec-2019    12168.45\n",
              "Name: Close, Length: 244, dtype: float64"
            ]
          },
          "metadata": {
            "tags": []
          },
          "execution_count": 74
        }
      ]
    },
    {
      "cell_type": "code",
      "metadata": {
        "colab": {
          "base_uri": "https://localhost:8080/"
        },
        "id": "l1QsiRlPoKji",
        "outputId": "cd04dd1c-dc7d-43d8-b273-da3be81fe9ff"
      },
      "source": [
        "nifty[:-1]"
      ],
      "execution_count": null,
      "outputs": [
        {
          "output_type": "execute_result",
          "data": {
            "text/plain": [
              "Date\n",
              "01-Jan-2019    10910.10\n",
              "02-Jan-2019    10792.50\n",
              "03-Jan-2019    10672.25\n",
              "04-Jan-2019    10727.35\n",
              "07-Jan-2019    10771.80\n",
              "                 ...   \n",
              "23-Dec-2019    12262.75\n",
              "24-Dec-2019    12214.55\n",
              "26-Dec-2019    12126.55\n",
              "27-Dec-2019    12245.80\n",
              "30-Dec-2019    12255.85\n",
              "Name: Close, Length: 244, dtype: float64"
            ]
          },
          "metadata": {
            "tags": []
          },
          "execution_count": 75
        }
      ]
    },
    {
      "cell_type": "code",
      "metadata": {
        "colab": {
          "base_uri": "https://localhost:8080/"
        },
        "id": "Ic9cQGCYoMi1",
        "outputId": "af6ef5a5-9dd1-484f-9e77-6693e91e686b"
      },
      "source": [
        "nifty[1:] - nifty[:-1]"
      ],
      "execution_count": null,
      "outputs": [
        {
          "output_type": "execute_result",
          "data": {
            "text/plain": [
              "Date\n",
              "01-Apr-2019    0.0\n",
              "01-Aug-2019    0.0\n",
              "01-Feb-2019    0.0\n",
              "01-Jan-2019    NaN\n",
              "01-Jul-2019    0.0\n",
              "              ... \n",
              "31-Dec-2019    NaN\n",
              "31-Jan-2019    0.0\n",
              "31-Jul-2019    0.0\n",
              "31-May-2019    0.0\n",
              "31-Oct-2019    0.0\n",
              "Name: Close, Length: 245, dtype: float64"
            ]
          },
          "metadata": {
            "tags": []
          },
          "execution_count": 76
        }
      ]
    },
    {
      "cell_type": "code",
      "metadata": {
        "id": "aDEQSk-coSxK",
        "colab": {
          "base_uri": "https://localhost:8080/"
        },
        "outputId": "054ccb3f-8ddb-4be0-a35b-58b2b7cc27b5"
      },
      "source": [
        "nifty.values[1:] - nifty.values[:-1]"
      ],
      "execution_count": null,
      "outputs": [
        {
          "output_type": "execute_result",
          "data": {
            "text/plain": [
              "array([-1.1760e+02, -1.2025e+02,  5.5100e+01,  4.4450e+01,  3.0350e+01,\n",
              "        5.3000e+01, -3.3550e+01, -2.6650e+01, -5.7350e+01,  1.4920e+02,\n",
              "        3.5000e+00,  1.4900e+01,  1.7500e+00,  5.4900e+01, -3.9100e+01,\n",
              "       -9.1250e+01,  1.8300e+01, -6.9250e+01, -1.1900e+02, -9.3500e+00,\n",
              "       -4.0000e-01,  1.7915e+02,  6.2700e+01,  1.8600e+01,  2.2100e+01,\n",
              "        1.2810e+02,  6.9500e+00, -1.2580e+02, -5.4800e+01, -5.7400e+01,\n",
              "       -3.7750e+01, -4.7600e+01, -2.1650e+01, -8.3450e+01, -3.6600e+01,\n",
              "        1.3110e+02,  5.4400e+01,  1.8000e+00,  8.8450e+01, -4.4800e+01,\n",
              "       -2.8650e+01, -1.4150e+01,  7.1000e+01,  1.2395e+02,  6.5550e+01,\n",
              "        5.2000e+00, -2.2800e+01,  1.3265e+02,  1.3315e+02,  4.0500e+01,\n",
              "        1.5500e+00,  8.3600e+01,  3.5350e+01,  7.0200e+01, -1.1350e+01,\n",
              "       -6.4150e+01, -1.0265e+02,  1.2900e+02, -3.8200e+01,  1.2495e+02,\n",
              "        5.3900e+01,  4.5250e+01,  4.4050e+01, -6.9250e+01, -4.5950e+01,\n",
              "        6.7950e+01, -6.1450e+01,  6.7450e+01, -8.7650e+01,  1.2400e+01,\n",
              "        4.6750e+01,  4.6900e+01,  9.6800e+01, -3.4350e+01, -1.5835e+02,\n",
              "       -1.8500e+01,  1.5020e+02, -8.4350e+01,  1.1285e+02, -6.5000e+00,\n",
              "       -2.3400e+01, -1.2500e+01, -1.1400e+02, -1.0035e+02, -1.3845e+02,\n",
              "       -5.7650e+01, -2.2900e+01, -1.3070e+02,  7.3850e+01, -6.5050e+01,\n",
              "        1.0010e+02,  1.5005e+02,  4.2110e+02, -1.1915e+02,  2.8800e+01,\n",
              "       -8.0850e+01,  1.8705e+02,  8.0650e+01,  4.0000e+00, -6.7650e+01,\n",
              "        8.4800e+01, -2.3100e+01,  1.6575e+02, -6.6900e+01, -1.7790e+02,\n",
              "        2.6900e+01,  5.2050e+01,  4.2900e+01, -5.9400e+01,  7.8500e+00,\n",
              "       -9.0750e+01, -1.5115e+02,  1.9350e+01, -5.0000e-02,  1.4030e+02,\n",
              "       -1.0765e+02, -2.4450e+01,  9.6800e+01,  5.1100e+01, -6.0000e+00,\n",
              "       -5.2700e+01,  7.6750e+01,  4.4700e+01,  6.4500e+00,  3.0000e+01,\n",
              "       -1.3560e+02, -2.5255e+02, -2.7000e+00, -5.7000e+01,  8.4000e+01,\n",
              "       -3.0400e+01,  3.5850e+01,  7.4250e+01,  2.4900e+01, -9.0600e+01,\n",
              "       -1.7765e+02, -7.3050e+01, -1.5150e+01, -5.9750e+01, -1.9150e+01,\n",
              "        3.2150e+01, -9.5100e+01, -1.0380e+02,  3.2600e+01, -1.3800e+02,\n",
              "        1.7350e+01, -1.3475e+02,  8.5650e+01, -9.2750e+01,  1.7695e+02,\n",
              "        7.7200e+01, -1.8380e+02,  1.0355e+02,  1.8400e+01,  6.1000e+00,\n",
              "       -3.6900e+01, -9.8300e+01, -1.7735e+02,  8.8000e+01,  2.2850e+02,\n",
              "        4.7500e+01, -5.9250e+01, -9.7800e+01,  7.4950e+01, -2.2535e+02,\n",
              "        4.6750e+01,  3.2500e+00,  9.8300e+01,  5.6850e+01,  3.2650e+01,\n",
              "       -5.2900e+01,  9.3100e+01, -7.2400e+01, -1.8590e+02,  2.3050e+01,\n",
              "       -1.3585e+02,  5.6940e+02,  3.2600e+02, -1.2000e+01, -1.4800e+02,\n",
              "        1.3100e+02, -5.8800e+01, -3.7950e+01, -1.1455e+02, -4.5900e+01,\n",
              "       -1.3925e+02, -4.8350e+01,  1.8690e+02, -7.8750e+01,  7.0500e+01,\n",
              "        3.6100e+01,  8.7150e+01,  3.5700e+01,  1.2235e+02,  7.5500e+01,\n",
              "       -7.3500e+01,  1.5750e+01, -2.1500e+01,  1.3000e+00,  4.3250e+01,\n",
              "        1.5970e+02,  5.7250e+01,  3.3350e+01,  1.3150e+01,  5.0700e+01,\n",
              "       -2.4100e+01,  4.8850e+01,  4.6000e+01, -1.0390e+02,  5.3000e+00,\n",
              "       -7.3000e+01,  3.1650e+01,  2.3350e+01, -1.0950e+01,  5.5600e+01,\n",
              "        5.9000e+01, -3.0700e+01, -5.4000e+01,  1.5935e+02, -3.6050e+01,\n",
              "        6.3000e+01,  5.0450e+01, -9.5100e+01, -7.8500e+00, -5.4000e+01,\n",
              "        4.9000e+01, -2.4800e+01, -9.6900e+01,  1.6000e+01, -8.0700e+01,\n",
              "        5.3350e+01,  6.1650e+01,  1.1490e+02, -3.2750e+01,  1.1105e+02,\n",
              "        5.6650e+01,  3.8050e+01,  1.2100e+01, -9.0500e+00, -4.8200e+01,\n",
              "       -8.8000e+01,  1.1925e+02,  1.0050e+01, -8.7400e+01])"
            ]
          },
          "metadata": {
            "tags": []
          },
          "execution_count": 43
        }
      ]
    },
    {
      "cell_type": "code",
      "metadata": {
        "colab": {
          "base_uri": "https://localhost:8080/"
        },
        "id": "pNSYm_ER7utl",
        "outputId": "602b5d00-ad91-4952-e45f-47413964a1cc"
      },
      "source": [
        "(nifty.values[1:] - nifty.values[:-1]) > 0"
      ],
      "execution_count": null,
      "outputs": [
        {
          "output_type": "execute_result",
          "data": {
            "text/plain": [
              "array([False, False,  True,  True,  True,  True, False, False, False,\n",
              "        True,  True,  True,  True,  True, False, False,  True, False,\n",
              "       False, False, False,  True,  True,  True,  True,  True,  True,\n",
              "       False, False, False, False, False, False, False, False,  True,\n",
              "        True,  True,  True, False, False, False,  True,  True,  True,\n",
              "        True, False,  True,  True,  True,  True,  True,  True,  True,\n",
              "       False, False, False,  True, False,  True,  True,  True,  True,\n",
              "       False, False,  True, False,  True, False,  True,  True,  True,\n",
              "        True, False, False, False,  True, False,  True, False, False,\n",
              "       False, False, False, False, False, False, False,  True, False,\n",
              "        True,  True,  True, False,  True, False,  True,  True,  True,\n",
              "       False,  True, False,  True, False, False,  True,  True,  True,\n",
              "       False,  True, False, False,  True, False,  True, False, False,\n",
              "        True,  True, False, False,  True,  True,  True,  True, False,\n",
              "       False, False, False,  True, False,  True,  True,  True, False,\n",
              "       False, False, False, False, False,  True, False, False,  True,\n",
              "       False,  True, False,  True, False,  True,  True, False,  True,\n",
              "        True,  True, False, False, False,  True,  True,  True, False,\n",
              "       False,  True, False,  True,  True,  True,  True,  True, False,\n",
              "        True, False, False,  True, False,  True,  True, False, False,\n",
              "        True, False, False, False, False, False, False,  True, False,\n",
              "        True,  True,  True,  True,  True,  True, False,  True, False,\n",
              "        True,  True,  True,  True,  True,  True,  True, False,  True,\n",
              "        True, False,  True, False,  True,  True, False,  True,  True,\n",
              "       False, False,  True, False,  True,  True, False, False, False,\n",
              "        True, False, False,  True, False,  True,  True,  True, False,\n",
              "        True,  True,  True,  True, False, False, False,  True,  True,\n",
              "       False])"
            ]
          },
          "metadata": {
            "tags": []
          },
          "execution_count": 44
        }
      ]
    },
    {
      "cell_type": "code",
      "metadata": {
        "colab": {
          "base_uri": "https://localhost:8080/"
        },
        "id": "dcWbGyG46iNF",
        "outputId": "3540ecd1-16d8-41e0-c07c-943a127abcb3"
      },
      "source": [
        "np.sum((nifty.values[1:] - nifty.values[:-1]) > 0)/len(nifty)"
      ],
      "execution_count": null,
      "outputs": [
        {
          "output_type": "execute_result",
          "data": {
            "text/plain": [
              "0.5265306122448979"
            ]
          },
          "metadata": {
            "tags": []
          },
          "execution_count": 45
        }
      ]
    },
    {
      "cell_type": "markdown",
      "metadata": {
        "id": "UJiNnFLiBU4R"
      },
      "source": [
        "1. Compute moving average of the last 5 days\n",
        "\n",
        "2. Subset the data to include only data for Fridays"
      ]
    },
    {
      "cell_type": "code",
      "metadata": {
        "colab": {
          "base_uri": "https://localhost:8080/"
        },
        "id": "dzpx3quD70lZ",
        "outputId": "e874da0a-569f-4e47-deb3-7277c7ae3847"
      },
      "source": [
        "nifty"
      ],
      "execution_count": null,
      "outputs": [
        {
          "output_type": "execute_result",
          "data": {
            "text/plain": [
              "Date\n",
              "01-Jan-2019    10910.10\n",
              "02-Jan-2019    10792.50\n",
              "03-Jan-2019    10672.25\n",
              "04-Jan-2019    10727.35\n",
              "07-Jan-2019    10771.80\n",
              "                 ...   \n",
              "24-Dec-2019    12214.55\n",
              "26-Dec-2019    12126.55\n",
              "27-Dec-2019    12245.80\n",
              "30-Dec-2019    12255.85\n",
              "31-Dec-2019    12168.45\n",
              "Name: Close, Length: 245, dtype: float64"
            ]
          },
          "metadata": {
            "tags": []
          },
          "execution_count": 46
        }
      ]
    },
    {
      "cell_type": "code",
      "metadata": {
        "id": "7QNe-l7RBYzI"
      },
      "source": [
        "d = pd.Timestamp(nifty.index[0])"
      ],
      "execution_count": null,
      "outputs": []
    },
    {
      "cell_type": "code",
      "metadata": {
        "colab": {
          "base_uri": "https://localhost:8080/"
        },
        "id": "hZ1x2vhxBhaL",
        "outputId": "608b2cc1-7980-489e-cece-95b50e854b2f"
      },
      "source": [
        "d.dayofweek"
      ],
      "execution_count": null,
      "outputs": [
        {
          "output_type": "execute_result",
          "data": {
            "text/plain": [
              "1"
            ]
          },
          "metadata": {
            "tags": []
          },
          "execution_count": 49
        }
      ]
    },
    {
      "cell_type": "code",
      "metadata": {
        "id": "u3u5pkS8BpXL"
      },
      "source": [
        "new_index = map(pd.Timestamp, nifty.index)"
      ],
      "execution_count": null,
      "outputs": []
    },
    {
      "cell_type": "code",
      "metadata": {
        "id": "w2iKXE-EB7De"
      },
      "source": [
        "new_nifty = pd.Series(nifty, index=new_index)"
      ],
      "execution_count": null,
      "outputs": []
    },
    {
      "cell_type": "code",
      "metadata": {
        "colab": {
          "base_uri": "https://localhost:8080/"
        },
        "id": "juMe-19GCIvF",
        "outputId": "adcf9bf1-98ff-4add-cd0d-8d5d303eeb66"
      },
      "source": [
        "new_nifty"
      ],
      "execution_count": null,
      "outputs": [
        {
          "output_type": "execute_result",
          "data": {
            "text/plain": [
              "2019-01-01    10910.10\n",
              "2019-01-02    10792.50\n",
              "2019-01-03    10672.25\n",
              "2019-01-04    10727.35\n",
              "2019-01-07    10771.80\n",
              "                ...   \n",
              "2019-12-24    12214.55\n",
              "2019-12-26    12126.55\n",
              "2019-12-27    12245.80\n",
              "2019-12-30    12255.85\n",
              "2019-12-31    12168.45\n",
              "Name: Close, Length: 245, dtype: float64"
            ]
          },
          "metadata": {
            "tags": []
          },
          "execution_count": 52
        }
      ]
    },
    {
      "cell_type": "code",
      "metadata": {
        "colab": {
          "base_uri": "https://localhost:8080/"
        },
        "id": "akKkaeJFCJ-k",
        "outputId": "4837a97f-4c1d-4c67-bc1b-5c98075b4dda"
      },
      "source": [
        "new_nifty.index[0]"
      ],
      "execution_count": null,
      "outputs": [
        {
          "output_type": "execute_result",
          "data": {
            "text/plain": [
              "Timestamp('2019-01-01 00:00:00')"
            ]
          },
          "metadata": {
            "tags": []
          },
          "execution_count": 56
        }
      ]
    },
    {
      "cell_type": "code",
      "metadata": {
        "colab": {
          "base_uri": "https://localhost:8080/"
        },
        "id": "34NJAn7ICsar",
        "outputId": "a73aad96-796f-417f-e27f-79dc5e4e5eec"
      },
      "source": [
        "new_nifty.rolling('5d').mean()"
      ],
      "execution_count": null,
      "outputs": [
        {
          "output_type": "execute_result",
          "data": {
            "text/plain": [
              "2019-01-01    10910.100000\n",
              "2019-01-02    10851.300000\n",
              "2019-01-03    10791.616667\n",
              "2019-01-04    10775.550000\n",
              "2019-01-07    10723.800000\n",
              "                  ...     \n",
              "2019-12-24    12249.700000\n",
              "2019-12-26    12201.283333\n",
              "2019-12-27    12212.412500\n",
              "2019-12-30    12209.400000\n",
              "2019-12-31    12223.366667\n",
              "Name: Close, Length: 245, dtype: float64"
            ]
          },
          "metadata": {
            "tags": []
          },
          "execution_count": 58
        }
      ]
    },
    {
      "cell_type": "code",
      "metadata": {
        "id": "zANeIKFAH9K1",
        "colab": {
          "base_uri": "https://localhost:8080/"
        },
        "outputId": "192ee7ef-2ccd-4a58-f1b5-395d25a967bf"
      },
      "source": [
        "day_of_week.index"
      ],
      "execution_count": null,
      "outputs": [
        {
          "output_type": "execute_result",
          "data": {
            "text/plain": [
              "DatetimeIndex(['2019-01-01', '2019-01-02', '2019-01-03', '2019-01-04',\n",
              "               '2019-01-07', '2019-01-08', '2019-01-09', '2019-01-10',\n",
              "               '2019-01-11', '2019-01-14',\n",
              "               ...\n",
              "               '2019-12-17', '2019-12-18', '2019-12-19', '2019-12-20',\n",
              "               '2019-12-23', '2019-12-24', '2019-12-26', '2019-12-27',\n",
              "               '2019-12-30', '2019-12-31'],\n",
              "              dtype='datetime64[ns]', length=245, freq=None)"
            ]
          },
          "metadata": {
            "tags": []
          },
          "execution_count": 77
        }
      ]
    },
    {
      "cell_type": "code",
      "metadata": {
        "id": "UHN1duBJC7xt"
      },
      "source": [
        "day_of_week = new_nifty.copy()\n",
        "for i in day_of_week.index:\n",
        "  day_of_week[i] = i.dayofweek"
      ],
      "execution_count": null,
      "outputs": []
    },
    {
      "cell_type": "code",
      "metadata": {
        "colab": {
          "base_uri": "https://localhost:8080/"
        },
        "id": "39JWZmJXDgM6",
        "outputId": "1fd7d707-d15f-4820-b9eb-99fde847806b"
      },
      "source": [
        "day_of_week"
      ],
      "execution_count": null,
      "outputs": [
        {
          "output_type": "execute_result",
          "data": {
            "text/plain": [
              "2019-01-01    1.0\n",
              "2019-01-02    2.0\n",
              "2019-01-03    3.0\n",
              "2019-01-04    4.0\n",
              "2019-01-07    0.0\n",
              "             ... \n",
              "2019-12-24    1.0\n",
              "2019-12-26    3.0\n",
              "2019-12-27    4.0\n",
              "2019-12-30    0.0\n",
              "2019-12-31    1.0\n",
              "Name: Close, Length: 245, dtype: float64"
            ]
          },
          "metadata": {
            "tags": []
          },
          "execution_count": 61
        }
      ]
    },
    {
      "cell_type": "code",
      "metadata": {
        "id": "u8vC79_mDhdo"
      },
      "source": [
        ""
      ],
      "execution_count": null,
      "outputs": []
    }
  ]
}